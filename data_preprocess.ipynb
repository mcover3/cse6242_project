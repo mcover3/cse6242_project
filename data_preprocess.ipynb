{
 "cells": [
  {
   "cell_type": "code",
   "execution_count": 82,
   "metadata": {},
   "outputs": [],
   "source": [
    "import pandas as pd, re"
   ]
  },
  {
   "cell_type": "code",
   "execution_count": 41,
   "metadata": {},
   "outputs": [],
   "source": [
    "csvs = {\n",
    "    \"cluster\": \"Cluster_merge_raw.csv\",\n",
    "    \"realtor\": \"Realtor - Market Hotness.csv\",\n",
    "    \"statsAmerica\": \"StatsAmerica - Population by Age and Sex - Clean.csv\"\n",
    "}"
   ]
  },
  {
   "cell_type": "code",
   "execution_count": 105,
   "metadata": {},
   "outputs": [],
   "source": [
    "# read in, clean FIPS data\n",
    "\n",
    "df_cluster = pd.read_csv(csvs[\"cluster\"])\n",
    "\n",
    "df_unemp = pd.read_csv(\"https://raw.githubusercontent.com/plotly/datasets/master/fips-unemp-16.csv\",\n",
    "                   dtype={\"fips\": str})\n",
    "\n",
    "df_cluster = (\n",
    "    df_cluster[\n",
    "        (df_cluster.ibrc_geo_id_pop == df_cluster.ibrc_geo_id_combo)\n",
    "        ]\n",
    "    .drop([\"Unnamed: 0\", \"ibrc_geo_id_pop\", \"ibrc_geo_id_sc\", \"county_fips_hot\", \"description_sc\"], axis=1)\n",
    "    .rename(columns={\n",
    "        \"ibrc_geo_id_combo\": \"fips\"\n",
    "    })\n",
    ")\n",
    "\n",
    "df_cluster.fips = [\n",
    "    str(int(x)).zfill(5) for x in df_cluster.fips\n",
    "]\n",
    "\n",
    "df_cluster = df_cluster.merge(df_unemp, on=\"fips\")"
   ]
  },
  {
   "cell_type": "code",
   "execution_count": 106,
   "metadata": {},
   "outputs": [],
   "source": [
    "# organize columns\n",
    "\n",
    "index_cols = [\"fips\", \"description_pop\", \"year_pop\"]\n",
    "\n",
    "big5_cols = ['Agreeableness_sc', 'Conscientiousness_sc', \"Extraversion_sc\", \"Neuroticism_sc\", \"Openness_sc\"]\n",
    "\n",
    "demographic_cols = [\"Religiosity_sc\"] + [x for x in df_cluster.columns if \"population\" in x]\n",
    "\n",
    "pol_cols = ['Belief In Science_sc', 'Collectivism_sc', \"Gender Equality_sc\"]\n",
    "\n",
    "personality_cols = [\n",
    "    'Conflict Awareness_sc', 'Empathy_sc', \"Hopefulness_sc\",\n",
    "     \"Risk Taking_sc\", \"Selflessness_sc\", \"Tolerance_sc\",\n",
    "     \"Work Ethic_sc\"\n",
    "     ]\n",
    "\n",
    "economy_cols = [\"Employment Rate_sc\", \"unemp\", \"Entrepreneurship_sc\", \"Income Mobility_sc\", \"Income Per Capita_sc\"]\n",
    "\n",
    "hot_cols = [x for x in df_cluster.columns if x.endswith(\"_hot\")]"
   ]
  },
  {
   "cell_type": "code",
   "execution_count": 107,
   "metadata": {},
   "outputs": [],
   "source": [
    "# add proportion variables to population by age columns\n",
    "\n",
    "demographic_prop_cols = []\n",
    "\n",
    "for pop_col in [x for x in demographic_cols if x.startswith(\"population_\")] + [\"male_population_pop\", \"female_population_pop\"]:\n",
    "    df_cluster[f\"prop_{pop_col}\"] = df_cluster[pop_col]/df_cluster[\"total_population_pop\"]\n",
    "\n",
    "    demographic_prop_cols += [f\"prop_{pop_col}\"]"
   ]
  },
  {
   "cell_type": "code",
   "execution_count": 114,
   "metadata": {},
   "outputs": [],
   "source": [
    "# normalize features\n",
    "\n",
    "df_normalized = df_cluster.copy()\n",
    "\n",
    "for col in df_normalized[[x for x in df_normalized.columns if x not in index_cols + hot_cols]]:\n",
    "\n",
    "    # put to scale 1-100. this is an issue as it assumes a uniform distribution. percentiles not calculated accurately.\n",
    "    # df_normalized[f\"{col}_norm\"] = (df_normalized[col] - df_normalized[col].min())*(100/(df_normalized[col].max() - df_normalized[col].min()))\n",
    "\n",
    "    # calculated as z-score. assumes normal distribution.\n",
    "\n",
    "    df_normalized[f\"{col}_norm\"] = (df_normalized[col] - df_normalized[col].mean()) / df_normalized[col].std()"
   ]
  },
  {
   "cell_type": "code",
   "execution_count": 117,
   "metadata": {},
   "outputs": [],
   "source": [
    "# save data\n",
    "\n",
    "df_normalized.to_csv(\"cluster_merge_clean_normalized.csv\", index=None)"
   ]
  },
  {
   "cell_type": "markdown",
   "metadata": {},
   "source": [
    "---"
   ]
  },
  {
   "cell_type": "code",
   "execution_count": 198,
   "metadata": {},
   "outputs": [],
   "source": [
    "df0 = pd.read_csv(\"cluster_merge_clean_normalized.csv\", dtype={\"fips\": str})"
   ]
  },
  {
   "cell_type": "markdown",
   "metadata": {},
   "source": [
    "assume median household has 3 bedrooms<br>\n",
    "assume rent is 0.8% of housing price<br>\n",
    "assume rent is 20% more than the mortgage<br>"
   ]
  },
  {
   "cell_type": "code",
   "execution_count": 237,
   "metadata": {},
   "outputs": [],
   "source": [
    "df_preds0 = pd.read_csv(\"price_predictions_new.csv\", dtype={\"county_fips\": str}).rename(columns={\"county_fips\": \"fips\"})\n",
    "df_clust0 = pd.read_csv(\"fip_clusters.csv\", dtype={\"fips\": int}).drop(\"Unnamed: 0\", axis=1)\n",
    "df_other0 = pd.read_csv(\"Cluster_merge_clean.csv\", dtype={\"fips_id\": int}).drop(\"Unnamed: 0\", axis=1).rename(columns={\"fips_id\": \"fips\"})"
   ]
  },
  {
   "cell_type": "code",
   "execution_count": 244,
   "metadata": {},
   "outputs": [],
   "source": [
    "# add rent, mortgage payment\n",
    "\n",
    "df_preds = df_preds0.copy()\n",
    "\n",
    "df_preds.fips = [\n",
    "    str(int(x)).zfill(5) for x in df_preds.fips\n",
    "]\n",
    "\n",
    "# df_preds.predicted_price = [\n",
    "#     float(x.replace(\"[\", '').replace(\"]\", \"\"))\n",
    "#     for x in df_preds.predicted_price\n",
    "# ]\n",
    "\n",
    "# df_preds = df_preds.groupby(\"fips\").agg({\"predicted_price\": \"mean\"}).reset_index()\n",
    "\n",
    "df_preds[\"median_rent\"] = df_preds.predicted_price*0.008/3\n",
    "df_preds[\"median_mortgage\"] = df_preds.median_rent*3/1.2\n",
    "\n",
    "# df_preds = df_preds.rename(columns={\n",
    "#     \"predicted_price\": \"Forecasted Median Housing Price\"\n",
    "# })\n",
    "\n",
    "df_preds[\"predicted_price\"] = [\n",
    "    f\"${round(x/1000)}k\"\n",
    "    for x in df_preds[\"predicted_price\"]\n",
    "]\n"
   ]
  },
  {
   "cell_type": "code",
   "execution_count": 245,
   "metadata": {},
   "outputs": [],
   "source": [
    "# add clusters, cluster labels\n",
    "\n",
    "cluster_label_dict = {\n",
    "    0: \"Best of Both Worlds\",\n",
    "    1: \"Country Roads\",\n",
    "    2: \"Star Gazing\",\n",
    "    3: \"Big City Life\",\n",
    "    4: \"American Dream\"\n",
    "}\n",
    "\n",
    "df_clust = df_clust0.copy()\n",
    "\n",
    "df_clust.fips = [\n",
    "    str(int(x)).zfill(5) for x in df_clust.fips\n",
    "]\n",
    "\n",
    "df_clust[\"cluster_label\"] = [\n",
    "    cluster_label_dict[x]\n",
    "    for x in df_clust.cluster\n",
    "]\n",
    "\n",
    "df_clust = df_clust[[\n",
    "    \"fips\", \"cluster\", \"cluster_label\"\n",
    "]]"
   ]
  },
  {
   "cell_type": "code",
   "execution_count": 246,
   "metadata": {},
   "outputs": [],
   "source": [
    "# get education, unemployment data\n",
    "\n",
    "df_other = df_other0.copy()\n",
    "\n",
    "df_other.fips = [\n",
    "    str(int(x)).zfill(5) for x in df_other.fips\n",
    "]\n",
    "\n",
    "other_cols = ['percent_of_adults_with_less_than_a_high_school_diploma_2015-19_edu',\n",
    " 'percent_of_adults_with_a_high_school_diploma_only_2015-19_edu',\n",
    " 'percent_of_adults_completing_some_college_or_associates_degree_2015-19_edu',\n",
    " 'percent_of_adults_with_a_bachelors_degree_or_higher_2015-19_edu',\n",
    " 'unemployment_rate_2020_emp']\n",
    "\n",
    "df_other = df_other[['fips'] + other_cols]\n",
    "\n"
   ]
  },
  {
   "cell_type": "code",
   "execution_count": 247,
   "metadata": {},
   "outputs": [],
   "source": [
    "# merge everything, define educated col, normalize educated and unemployment cols\n",
    "\n",
    "df = df0.copy()\n",
    "\n",
    "df = (\n",
    "    df.merge(\n",
    "        df_preds, on=\"fips\", how=\"left\"        \n",
    "    )\n",
    "    .merge(\n",
    "        df_clust, on=\"fips\", how=\"left\"\n",
    "    )\n",
    "    .merge(\n",
    "        df_other, on=\"fips\", how=\"left\"\n",
    "    )\n",
    ")\n",
    "\n",
    "df.predicted_price = df.predicted_price.fillna(\"Not Available\")\n",
    "df.median_mortgage = df.median_mortgage.fillna(0)\n",
    "df.median_rent = df.median_rent.fillna(0)\n",
    "\n",
    "df = df.rename(columns={\n",
    "    'percent_of_adults_with_less_than_a_high_school_diploma_2015-19_edu': \"edu_no_hs\",\n",
    "    'percent_of_adults_with_a_high_school_diploma_only_2015-19_edu': \"edu_hs\",\n",
    "    'percent_of_adults_completing_some_college_or_associates_degree_2015-19_edu': \"edu_some_uni\",\n",
    "    'percent_of_adults_with_a_bachelors_degree_or_higher_2015-19_edu': \"edu_uni\",\n",
    "    \"unemployment_rate_2020_emp\": \"unemployment\"\n",
    "})\n",
    "\n",
    "df[\"educated\"] = 2*df[\"edu_uni\"] + df[\"edu_some_uni\"] - df[\"edu_hs\"] - 2*df[\"edu_no_hs\"]\n",
    "\n",
    "df[\"employed\"] = 100 - df.unemployment\n",
    "\n",
    "for col in [\"educated\", \"employed\"]:\n",
    "\n",
    "    df[f\"{col}_norm\"] = (df[col] - df[col].mean())/df[col].std()\n",
    "\n",
    "# modify a couple other columns\n",
    "\n",
    "df[\"left_wing_norm\"] = df[\"Collectivism_sc_norm\"]\n",
    "df[\"right_wing_norm\"] = df[\"Collectivism_sc_norm\"]*-1"
   ]
  },
  {
   "cell_type": "code",
   "execution_count": 248,
   "metadata": {},
   "outputs": [],
   "source": [
    "df.to_csv(\"county_data_final.csv\")"
   ]
  },
  {
   "cell_type": "markdown",
   "metadata": {},
   "source": [
    "---\n",
    "sandbox"
   ]
  },
  {
   "cell_type": "code",
   "execution_count": 85,
   "metadata": {},
   "outputs": [
    {
     "data": {
      "text/plain": [
       "'mortgage'"
      ]
     },
     "execution_count": 85,
     "metadata": {},
     "output_type": "execute_result"
    }
   ],
   "source": [
    "val = \"Mortgage Budget\"\n",
    "str.lower(val[:re.search(\"Budget\", val).start()-1])"
   ]
  },
  {
   "cell_type": "code",
   "execution_count": 234,
   "metadata": {},
   "outputs": [
    {
     "data": {
      "text/html": [
       "<div>\n",
       "<style scoped>\n",
       "    .dataframe tbody tr th:only-of-type {\n",
       "        vertical-align: middle;\n",
       "    }\n",
       "\n",
       "    .dataframe tbody tr th {\n",
       "        vertical-align: top;\n",
       "    }\n",
       "\n",
       "    .dataframe thead th {\n",
       "        text-align: right;\n",
       "    }\n",
       "</style>\n",
       "<table border=\"1\" class=\"dataframe\">\n",
       "  <thead>\n",
       "    <tr style=\"text-align: right;\">\n",
       "      <th></th>\n",
       "      <th>fips</th>\n",
       "      <th>predicted_price</th>\n",
       "      <th>median_rent</th>\n",
       "      <th>median_mortgage</th>\n",
       "    </tr>\n",
       "  </thead>\n",
       "  <tbody>\n",
       "    <tr>\n",
       "      <th>0</th>\n",
       "      <td>01001</td>\n",
       "      <td>$239k</td>\n",
       "      <td>638.480000</td>\n",
       "      <td>1596.200000</td>\n",
       "    </tr>\n",
       "    <tr>\n",
       "      <th>1</th>\n",
       "      <td>01003</td>\n",
       "      <td>$410k</td>\n",
       "      <td>1093.179493</td>\n",
       "      <td>2732.948733</td>\n",
       "    </tr>\n",
       "    <tr>\n",
       "      <th>2</th>\n",
       "      <td>01009</td>\n",
       "      <td>$226k</td>\n",
       "      <td>601.939573</td>\n",
       "      <td>1504.848933</td>\n",
       "    </tr>\n",
       "    <tr>\n",
       "      <th>3</th>\n",
       "      <td>01015</td>\n",
       "      <td>$161k</td>\n",
       "      <td>428.396867</td>\n",
       "      <td>1070.992167</td>\n",
       "    </tr>\n",
       "    <tr>\n",
       "      <th>4</th>\n",
       "      <td>01017</td>\n",
       "      <td>$131k</td>\n",
       "      <td>348.378973</td>\n",
       "      <td>870.947433</td>\n",
       "    </tr>\n",
       "    <tr>\n",
       "      <th>...</th>\n",
       "      <td>...</td>\n",
       "      <td>...</td>\n",
       "      <td>...</td>\n",
       "      <td>...</td>\n",
       "    </tr>\n",
       "    <tr>\n",
       "      <th>1573</th>\n",
       "      <td>56025</td>\n",
       "      <td>$255k</td>\n",
       "      <td>679.495160</td>\n",
       "      <td>1698.737900</td>\n",
       "    </tr>\n",
       "    <tr>\n",
       "      <th>1574</th>\n",
       "      <td>56029</td>\n",
       "      <td>$539k</td>\n",
       "      <td>1437.626000</td>\n",
       "      <td>3594.065000</td>\n",
       "    </tr>\n",
       "    <tr>\n",
       "      <th>1575</th>\n",
       "      <td>56033</td>\n",
       "      <td>$366k</td>\n",
       "      <td>977.302373</td>\n",
       "      <td>2443.255933</td>\n",
       "    </tr>\n",
       "    <tr>\n",
       "      <th>1576</th>\n",
       "      <td>56037</td>\n",
       "      <td>$231k</td>\n",
       "      <td>616.044280</td>\n",
       "      <td>1540.110700</td>\n",
       "    </tr>\n",
       "    <tr>\n",
       "      <th>1577</th>\n",
       "      <td>56039</td>\n",
       "      <td>$2198k</td>\n",
       "      <td>5860.806400</td>\n",
       "      <td>14652.016000</td>\n",
       "    </tr>\n",
       "  </tbody>\n",
       "</table>\n",
       "<p>1578 rows × 4 columns</p>\n",
       "</div>"
      ],
      "text/plain": [
       "       fips predicted_price  median_rent  median_mortgage\n",
       "0     01001           $239k   638.480000      1596.200000\n",
       "1     01003           $410k  1093.179493      2732.948733\n",
       "2     01009           $226k   601.939573      1504.848933\n",
       "3     01015           $161k   428.396867      1070.992167\n",
       "4     01017           $131k   348.378973       870.947433\n",
       "...     ...             ...          ...              ...\n",
       "1573  56025           $255k   679.495160      1698.737900\n",
       "1574  56029           $539k  1437.626000      3594.065000\n",
       "1575  56033           $366k   977.302373      2443.255933\n",
       "1576  56037           $231k   616.044280      1540.110700\n",
       "1577  56039          $2198k  5860.806400     14652.016000\n",
       "\n",
       "[1578 rows x 4 columns]"
      ]
     },
     "execution_count": 234,
     "metadata": {},
     "output_type": "execute_result"
    }
   ],
   "source": [
    "df_preds"
   ]
  }
 ],
 "metadata": {
  "interpreter": {
   "hash": "dc60a0512f583e75590513535dea0627d08f131ae6e668114001eccf06ccf010"
  },
  "kernelspec": {
   "display_name": "Python 3.9.7 ('base')",
   "language": "python",
   "name": "python3"
  },
  "language_info": {
   "codemirror_mode": {
    "name": "ipython",
    "version": 3
   },
   "file_extension": ".py",
   "mimetype": "text/x-python",
   "name": "python",
   "nbconvert_exporter": "python",
   "pygments_lexer": "ipython3",
   "version": "3.9.7"
  },
  "orig_nbformat": 4
 },
 "nbformat": 4,
 "nbformat_minor": 2
}
