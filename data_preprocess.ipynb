{
 "cells": [
  {
   "cell_type": "code",
   "execution_count": null,
   "metadata": {},
   "outputs": [],
   "source": [
    "import pandas as pd"
   ]
  },
  {
   "cell_type": "code",
   "execution_count": 41,
   "metadata": {},
   "outputs": [],
   "source": [
    "csvs = {\n",
    "    \"cluster\": \"Cluster_merge_raw.csv\",\n",
    "    \"realtor\": \"Realtor - Market Hotness.csv\",\n",
    "    \"statsAmerica\": \"StatsAmerica - Population by Age and Sex - Clean.csv\"\n",
    "}"
   ]
  },
  {
   "cell_type": "code",
   "execution_count": 105,
   "metadata": {},
   "outputs": [],
   "source": [
    "# read in, clean FIPS data\n",
    "\n",
    "df_cluster = pd.read_csv(csvs[\"cluster\"])\n",
    "\n",
    "df_unemp = pd.read_csv(\"https://raw.githubusercontent.com/plotly/datasets/master/fips-unemp-16.csv\",\n",
    "                   dtype={\"fips\": str})\n",
    "\n",
    "df_cluster = (\n",
    "    df_cluster[\n",
    "        (df_cluster.ibrc_geo_id_pop == df_cluster.ibrc_geo_id_combo)\n",
    "        ]\n",
    "    .drop([\"Unnamed: 0\", \"ibrc_geo_id_pop\", \"ibrc_geo_id_sc\", \"county_fips_hot\", \"description_sc\"], axis=1)\n",
    "    .rename(columns={\n",
    "        \"ibrc_geo_id_combo\": \"fips\"\n",
    "    })\n",
    ")\n",
    "\n",
    "df_cluster.fips = [\n",
    "    str(int(x)).zfill(5) for x in df_cluster.fips\n",
    "]\n",
    "\n",
    "df_cluster = df_cluster.merge(df_unemp, on=\"fips\")"
   ]
  },
  {
   "cell_type": "code",
   "execution_count": 106,
   "metadata": {},
   "outputs": [],
   "source": [
    "# organize columns\n",
    "\n",
    "index_cols = [\"fips\", \"description_pop\", \"year_pop\"]\n",
    "\n",
    "big5_cols = ['Agreeableness_sc', 'Conscientiousness_sc', \"Extraversion_sc\", \"Neuroticism_sc\", \"Openness_sc\"]\n",
    "\n",
    "demographic_cols = [\"Religiosity_sc\"] + [x for x in df_cluster.columns if \"population\" in x]\n",
    "\n",
    "pol_cols = ['Belief In Science_sc', 'Collectivism_sc', \"Gender Equality_sc\"]\n",
    "\n",
    "personality_cols = [\n",
    "    'Conflict Awareness_sc', 'Empathy_sc', \"Hopefulness_sc\",\n",
    "     \"Risk Taking_sc\", \"Selflessness_sc\", \"Tolerance_sc\",\n",
    "     \"Work Ethic_sc\"\n",
    "     ]\n",
    "\n",
    "economy_cols = [\"Employment Rate_sc\", \"unemp\", \"Entrepreneurship_sc\", \"Income Mobility_sc\", \"Income Per Capita_sc\"]\n",
    "\n",
    "hot_cols = [x for x in df_cluster.columns if x.endswith(\"_hot\")]"
   ]
  },
  {
   "cell_type": "code",
   "execution_count": 107,
   "metadata": {},
   "outputs": [],
   "source": [
    "# add proportion variables to population by age columns\n",
    "\n",
    "demographic_prop_cols = []\n",
    "\n",
    "for pop_col in [x for x in demographic_cols if x.startswith(\"population_\")] + [\"male_population_pop\", \"female_population_pop\"]:\n",
    "    df_cluster[f\"prop_{pop_col}\"] = df_cluster[pop_col]/df_cluster[\"total_population_pop\"]\n",
    "\n",
    "    demographic_prop_cols += [f\"prop_{pop_col}\"]"
   ]
  },
  {
   "cell_type": "code",
   "execution_count": 114,
   "metadata": {},
   "outputs": [],
   "source": [
    "# normalize features\n",
    "\n",
    "df_normalized = df_cluster.copy()\n",
    "\n",
    "for col in df_normalized[[x for x in df_normalized.columns if x not in index_cols + hot_cols]]:\n",
    "\n",
    "    # put to scale 1-100. this is an issue as it assumes a uniform distribution. percentiles not calculated accurately.\n",
    "    # df_normalized[f\"{col}_norm\"] = (df_normalized[col] - df_normalized[col].min())*(100/(df_normalized[col].max() - df_normalized[col].min()))\n",
    "\n",
    "    # calculated as z-score. assumes normal distribution.\n",
    "\n",
    "    df_normalized[f\"{col}_norm\"] = (df_normalized[col] - df_normalized[col].mean()) / df_normalized[col].std()"
   ]
  },
  {
   "cell_type": "code",
   "execution_count": 117,
   "metadata": {},
   "outputs": [],
   "source": [
    "# save data\n",
    "\n",
    "df_normalized.to_csv(\"cluster_merge_clean_normalized.csv\", index=None)"
   ]
  }
 ],
 "metadata": {
  "interpreter": {
   "hash": "dc60a0512f583e75590513535dea0627d08f131ae6e668114001eccf06ccf010"
  },
  "kernelspec": {
   "display_name": "Python 3.9.7 ('base')",
   "language": "python",
   "name": "python3"
  },
  "language_info": {
   "codemirror_mode": {
    "name": "ipython",
    "version": 3
   },
   "file_extension": ".py",
   "mimetype": "text/x-python",
   "name": "python",
   "nbconvert_exporter": "python",
   "pygments_lexer": "ipython3",
   "version": "3.9.7"
  },
  "orig_nbformat": 4
 },
 "nbformat": 4,
 "nbformat_minor": 2
}
