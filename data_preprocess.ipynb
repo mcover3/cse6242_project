{
 "cells": [
  {
   "cell_type": "code",
   "execution_count": 320,
   "metadata": {},
   "outputs": [],
   "source": [
    "import pandas as pd, re"
   ]
  },
  {
   "cell_type": "code",
   "execution_count": 41,
   "metadata": {},
   "outputs": [],
   "source": [
    "csvs = {\n",
    "    \"cluster\": \"Cluster_merge_raw.csv\",\n",
    "    \"realtor\": \"Realtor - Market Hotness.csv\",\n",
    "    \"statsAmerica\": \"StatsAmerica - Population by Age and Sex - Clean.csv\"\n",
    "}"
   ]
  },
  {
   "cell_type": "code",
   "execution_count": 105,
   "metadata": {},
   "outputs": [],
   "source": [
    "# read in, clean FIPS data\n",
    "\n",
    "df_cluster = pd.read_csv(csvs[\"cluster\"])\n",
    "\n",
    "df_unemp = pd.read_csv(\"https://raw.githubusercontent.com/plotly/datasets/master/fips-unemp-16.csv\",\n",
    "                   dtype={\"fips\": str})\n",
    "\n",
    "df_cluster = (\n",
    "    df_cluster[\n",
    "        (df_cluster.ibrc_geo_id_pop == df_cluster.ibrc_geo_id_combo)\n",
    "        ]\n",
    "    .drop([\"Unnamed: 0\", \"ibrc_geo_id_pop\", \"ibrc_geo_id_sc\", \"county_fips_hot\", \"description_sc\"], axis=1)\n",
    "    .rename(columns={\n",
    "        \"ibrc_geo_id_combo\": \"fips\"\n",
    "    })\n",
    ")\n",
    "\n",
    "df_cluster.fips = [\n",
    "    str(int(x)).zfill(5) for x in df_cluster.fips\n",
    "]\n",
    "\n",
    "df_cluster = df_cluster.merge(df_unemp, on=\"fips\")"
   ]
  },
  {
   "cell_type": "code",
   "execution_count": 106,
   "metadata": {},
   "outputs": [],
   "source": [
    "# organize columns\n",
    "\n",
    "index_cols = [\"fips\", \"description_pop\", \"year_pop\"]\n",
    "\n",
    "big5_cols = ['Agreeableness_sc', 'Conscientiousness_sc', \"Extraversion_sc\", \"Neuroticism_sc\", \"Openness_sc\"]\n",
    "\n",
    "demographic_cols = [\"Religiosity_sc\"] + [x for x in df_cluster.columns if \"population\" in x]\n",
    "\n",
    "pol_cols = ['Belief In Science_sc', 'Collectivism_sc', \"Gender Equality_sc\"]\n",
    "\n",
    "personality_cols = [\n",
    "    'Conflict Awareness_sc', 'Empathy_sc', \"Hopefulness_sc\",\n",
    "     \"Risk Taking_sc\", \"Selflessness_sc\", \"Tolerance_sc\",\n",
    "     \"Work Ethic_sc\"\n",
    "     ]\n",
    "\n",
    "economy_cols = [\"Employment Rate_sc\", \"unemp\", \"Entrepreneurship_sc\", \"Income Mobility_sc\", \"Income Per Capita_sc\"]\n",
    "\n",
    "hot_cols = [x for x in df_cluster.columns if x.endswith(\"_hot\")]"
   ]
  },
  {
   "cell_type": "code",
   "execution_count": 107,
   "metadata": {},
   "outputs": [],
   "source": [
    "# add proportion variables to population by age columns\n",
    "\n",
    "demographic_prop_cols = []\n",
    "\n",
    "for pop_col in [x for x in demographic_cols if x.startswith(\"population_\")] + [\"male_population_pop\", \"female_population_pop\"]:\n",
    "    df_cluster[f\"prop_{pop_col}\"] = df_cluster[pop_col]/df_cluster[\"total_population_pop\"]\n",
    "\n",
    "    demographic_prop_cols += [f\"prop_{pop_col}\"]"
   ]
  },
  {
   "cell_type": "code",
   "execution_count": 114,
   "metadata": {},
   "outputs": [],
   "source": [
    "# normalize features\n",
    "\n",
    "df_normalized = df_cluster.copy()\n",
    "\n",
    "for col in df_normalized[[x for x in df_normalized.columns if x not in index_cols + hot_cols]]:\n",
    "\n",
    "    # put to scale 1-100. this is an issue as it assumes a uniform distribution. percentiles not calculated accurately.\n",
    "    # calculated as z-score. assumes normal distribution.\n",
    "\n",
    "    df_normalized[f\"{col}_norm\"] = (df_normalized[col] - df_normalized[col].mean()) / df_normalized[col].std()"
   ]
  },
  {
   "cell_type": "code",
   "execution_count": 117,
   "metadata": {},
   "outputs": [],
   "source": [
    "# save data\n",
    "\n",
    "df_normalized.to_csv(\"cluster_merge_clean_normalized.csv\", index=None)"
   ]
  },
  {
   "cell_type": "markdown",
   "metadata": {},
   "source": [
    "---"
   ]
  },
  {
   "cell_type": "code",
   "execution_count": 321,
   "metadata": {},
   "outputs": [],
   "source": [
    "df0 = pd.read_csv(\"cluster_merge_clean_normalized.csv\", dtype={\"fips\": str})"
   ]
  },
  {
   "cell_type": "markdown",
   "metadata": {},
   "source": [
    "assume median household has 3 bedrooms<br>\n",
    "assume rent is 0.8% of housing price<br>\n",
    "assume rent is 20% more than the mortgage<br>"
   ]
  },
  {
   "cell_type": "code",
   "execution_count": 322,
   "metadata": {},
   "outputs": [],
   "source": [
    "df_preds0 = pd.read_csv(\"price_predictions_new.csv\", dtype={\"county_fips\": str}).rename(columns={\"county_fips\": \"fips\"})\n",
    "df_clust0 = pd.read_csv(\"fip_clusters.csv\", dtype={\"fips\": int}).drop(\"Unnamed: 0\", axis=1)\n",
    "df_other0 = pd.read_csv(\"Cluster_merge_clean.csv\", dtype={\"fips_id\": int}).drop(\"Unnamed: 0\", axis=1).rename(columns={\"fips_id\": \"fips\"})"
   ]
  },
  {
   "cell_type": "code",
   "execution_count": 323,
   "metadata": {},
   "outputs": [],
   "source": [
    "# add rent, mortgage payment\n",
    "\n",
    "df_preds = df_preds0.copy()\n",
    "\n",
    "df_preds.fips = [\n",
    "    str(int(x)).zfill(5) for x in df_preds.fips\n",
    "]\n",
    "\n",
    "df_preds[\"median_rent\"] = df_preds.predicted_price*0.008/3\n",
    "df_preds[\"median_mortgage\"] = df_preds.median_rent*3/1.2\n",
    "\n",
    "df_preds[\"predicted_price\"] = [\n",
    "    f\"${round(x/1000)}k\"\n",
    "    for x in df_preds[\"predicted_price\"]\n",
    "]\n"
   ]
  },
  {
   "cell_type": "code",
   "execution_count": 324,
   "metadata": {},
   "outputs": [],
   "source": [
    "# add clusters, cluster labels\n",
    "\n",
    "cluster_label_dict = {\n",
    "    0: \"Best of Both Worlds\",\n",
    "    1: \"Country Roads\",\n",
    "    2: \"Star Gazing\",\n",
    "    3: \"Big City Life\",\n",
    "    4: \"American Dream\"\n",
    "}\n",
    "\n",
    "df_clust = df_clust0.copy()\n",
    "\n",
    "df_clust.fips = [\n",
    "    str(int(x)).zfill(5) for x in df_clust.fips\n",
    "]\n",
    "\n",
    "df_clust[\"cluster_label\"] = [\n",
    "    cluster_label_dict[x]\n",
    "    for x in df_clust.cluster\n",
    "]\n",
    "\n",
    "df_clust = df_clust[[\n",
    "    \"fips\", \"cluster\", \"cluster_label\"\n",
    "]]"
   ]
  },
  {
   "cell_type": "code",
   "execution_count": 325,
   "metadata": {},
   "outputs": [],
   "source": [
    "# get education, unemployment data\n",
    "\n",
    "df_other = df_other0.copy()\n",
    "\n",
    "df_other.fips = [\n",
    "    str(int(x)).zfill(5) for x in df_other.fips\n",
    "]\n",
    "\n",
    "other_cols = ['percent_of_adults_with_less_than_a_high_school_diploma_2015-19_edu',\n",
    " 'percent_of_adults_with_a_high_school_diploma_only_2015-19_edu',\n",
    " 'percent_of_adults_completing_some_college_or_associates_degree_2015-19_edu',\n",
    " 'percent_of_adults_with_a_bachelors_degree_or_higher_2015-19_edu',\n",
    " 'unemployment_rate_2020_emp']\n",
    "\n",
    "df_other = df_other[['fips'] + other_cols]\n",
    "\n"
   ]
  },
  {
   "cell_type": "code",
   "execution_count": 326,
   "metadata": {},
   "outputs": [],
   "source": [
    "# merge everything, define educated col, normalize educated and unemployment cols\n",
    "\n",
    "df = df0.copy()\n",
    "\n",
    "df = (\n",
    "    df.merge(\n",
    "        df_preds, on=\"fips\", how=\"left\"        \n",
    "    )\n",
    "    .merge(\n",
    "        df_clust, on=\"fips\", how=\"left\"\n",
    "    )\n",
    "    .merge(\n",
    "        df_other, on=\"fips\", how=\"left\"\n",
    "    )\n",
    ")\n",
    "\n",
    "df.predicted_price = df.predicted_price.fillna(\"Not Available\")\n",
    "df.median_mortgage = df.median_mortgage.fillna(0)\n",
    "df.median_rent = df.median_rent.fillna(0)\n",
    "\n",
    "df = df.rename(columns={\n",
    "    'percent_of_adults_with_less_than_a_high_school_diploma_2015-19_edu': \"edu_no_hs\",\n",
    "    'percent_of_adults_with_a_high_school_diploma_only_2015-19_edu': \"edu_hs\",\n",
    "    'percent_of_adults_completing_some_college_or_associates_degree_2015-19_edu': \"edu_some_uni\",\n",
    "    'percent_of_adults_with_a_bachelors_degree_or_higher_2015-19_edu': \"edu_uni\",\n",
    "    \"unemployment_rate_2020_emp\": \"unemployment\"\n",
    "})\n",
    "\n",
    "df[\"educated\"] = 2*df[\"edu_uni\"] + df[\"edu_some_uni\"] - df[\"edu_hs\"] - 2*df[\"edu_no_hs\"]\n",
    "\n",
    "df[\"employed\"] = 100 - df.unemployment\n",
    "\n",
    "for col in [\"educated\", \"employed\"]:\n",
    "\n",
    "    df[f\"{col}_norm\"] = (df[col] - df[col].mean())/df[col].std()\n",
    "\n",
    "# modify a couple other columns\n",
    "\n",
    "df[\"left_wing_norm\"] = df[\"Collectivism_sc_norm\"]\n",
    "df[\"right_wing_norm\"] = df[\"Collectivism_sc_norm\"]*-1"
   ]
  },
  {
   "cell_type": "code",
   "execution_count": 261,
   "metadata": {},
   "outputs": [],
   "source": [
    "df.to_csv(\"county_data_final.csv\")"
   ]
  }
 ],
 "metadata": {
  "interpreter": {
   "hash": "dc60a0512f583e75590513535dea0627d08f131ae6e668114001eccf06ccf010"
  },
  "kernelspec": {
   "display_name": "Python 3.9.7 ('base')",
   "language": "python",
   "name": "python3"
  },
  "language_info": {
   "codemirror_mode": {
    "name": "ipython",
    "version": 3
   },
   "file_extension": ".py",
   "mimetype": "text/x-python",
   "name": "python",
   "nbconvert_exporter": "python",
   "pygments_lexer": "ipython3",
   "version": "3.9.7"
  },
  "orig_nbformat": 4
 },
 "nbformat": 4,
 "nbformat_minor": 2
}
